{
 "cells": [
  {
   "cell_type": "markdown",
   "metadata": {},
   "source": ["# Python 基礎 1: 輸出與變數"]
  },
  {
   "cell_type": "code",
   "execution_count": null,
   "metadata": {},
   "outputs": [],
   "source": ["# 印出訊息\nprint('Hello, world!')"]
  },
  {
   "cell_type": "code",
   "execution_count": null,
   "metadata": {},
   "outputs": [],
   "source": ["# 使用變數\nname = '小明'\nprint('你好,', name)"]
  },
  {
   "cell_type": "markdown",
   "metadata": {},
   "source": ["## 練習題\n1. 嘗試建立兩個變數，並印出它們的和。"]
  }
 ],
 "metadata": {
  "kernelspec": {
   "display_name": "Python 3",
   "language": "python",
   "name": "python3"
  },
  "language_info": {
   "name": "python",
   "version": "3.x"
  },
  "colab": {}
 },
 "nbformat": 4,
 "nbformat_minor": 0
}
