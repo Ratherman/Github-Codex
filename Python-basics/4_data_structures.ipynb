{
 "cells": [
  {
   "cell_type": "markdown",
   "metadata": {},
   "source": ["# Python 基礎 4: List 與 Dictionary"]
  },
  {
   "cell_type": "code",
   "execution_count": null,
   "metadata": {},
   "outputs": [],
   "source": ["# 建立 list\nfruits = ['蘋果', '香蕉', '橘子']\nfor f in fruits:\n    print(f)"]
  },
  {
   "cell_type": "code",
   "execution_count": null,
   "metadata": {},
   "outputs": [],
   "source": ["# 建立 dictionary\nstudent = {'name': '小華', 'age': 16}\nprint(student['name'])"]
  },
  {
   "cell_type": "markdown",
   "metadata": {},
   "source": ["## 練習題\n1. 請新增一個水果到 fruits 並印出全部內容。"]
  }
 ],
 "metadata": {
  "kernelspec": {
   "display_name": "Python 3",
   "language": "python",
   "name": "python3"
  },
  "language_info": {
   "name": "python",
   "version": "3.x"
  },
  "colab": {}
 },
 "nbformat": 4,
 "nbformat_minor": 0
}
