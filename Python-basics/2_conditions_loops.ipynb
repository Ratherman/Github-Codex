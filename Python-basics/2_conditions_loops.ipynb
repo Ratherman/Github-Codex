{
  "cells": [
    {
      "cell_type": "markdown",
      "metadata": {},
      "source": [
        "# Python 基礎 2: 條件與迴圈"
      ]
    },
    {
      "cell_type": "markdown",
      "metadata": {},
      "source": [
        "[![Open In Colab](https://colab.research.google.com/assets/colab-badge.svg)](https://colab.research.google.com/github/YOUR_GITHUB_USERNAME/Github-Codex/blob/main/Python-basics/2_conditions_loops.ipynb)"
      ]
    },
    {
      "cell_type": "code",
      "execution_count": null,
      "metadata": {},
      "outputs": [],
      "source": [
        "# if 判斷\nx = 5\nif x > 3:\n    print('x 大於 3')"
      ]
    },
    {
      "cell_type": "code",
      "execution_count": null,
      "metadata": {},
      "outputs": [],
      "source": [
        "# for 迴圈\nfor i in range(3):\n    print('迴圈次數', i)"
      ]
    },
    {
      "cell_type": "markdown",
      "metadata": {},
      "source": [
        "## 練習題\n1. 嘗試寫一個迴圈，計算 1 到 10 的總和。"
      ]
    }
  ],
  "metadata": {
    "kernelspec": {
      "display_name": "Python 3",
      "language": "python",
      "name": "python3"
    },
    "language_info": {
      "name": "python",
      "version": "3.x"
    },
    "colab": {}
  },
  "nbformat": 4,
  "nbformat_minor": 0
}